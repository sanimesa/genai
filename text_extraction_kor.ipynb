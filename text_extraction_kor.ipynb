{
  "nbformat": 4,
  "nbformat_minor": 0,
  "metadata": {
    "colab": {
      "provenance": [],
      "mount_file_id": "1Bg07VwK7Q3nye1BqabrZQ5MSw8ALR5lF",
      "authorship_tag": "ABX9TyNKvAN+lSiS5p8BTnMMiInj",
      "include_colab_link": true
    },
    "kernelspec": {
      "name": "python3",
      "display_name": "Python 3"
    },
    "language_info": {
      "name": "python"
    }
  },
  "cells": [
    {
      "cell_type": "markdown",
      "metadata": {
        "id": "view-in-github",
        "colab_type": "text"
      },
      "source": [
        "<a href=\"https://colab.research.google.com/github/sanimesa/genai/blob/main/text_extraction_kor.ipynb\" target=\"_parent\"><img src=\"https://colab.research.google.com/assets/colab-badge.svg\" alt=\"Open In Colab\"/></a>"
      ]
    },
    {
      "cell_type": "code",
      "source": [
        "!pip install openai kor markdownify python-dotenv pdfplumber"
      ],
      "metadata": {
        "colab": {
          "base_uri": "https://localhost:8080/"
        },
        "id": "QC09ju4HyPFA",
        "outputId": "2a3d1d78-864a-4e8c-cb43-3afb72685769"
      },
      "execution_count": 33,
      "outputs": [
        {
          "output_type": "stream",
          "name": "stdout",
          "text": [
            "Requirement already satisfied: openai in /usr/local/lib/python3.10/dist-packages (0.28.0)\n",
            "Requirement already satisfied: kor in /usr/local/lib/python3.10/dist-packages (1.0.0)\n",
            "Requirement already satisfied: markdownify in /usr/local/lib/python3.10/dist-packages (0.11.6)\n",
            "Requirement already satisfied: python-dotenv in /usr/local/lib/python3.10/dist-packages (1.0.0)\n",
            "Requirement already satisfied: pdfplumber in /usr/local/lib/python3.10/dist-packages (0.10.2)\n",
            "Requirement already satisfied: requests>=2.20 in /usr/local/lib/python3.10/dist-packages (from openai) (2.31.0)\n",
            "Requirement already satisfied: tqdm in /usr/local/lib/python3.10/dist-packages (from openai) (4.66.1)\n",
            "Requirement already satisfied: aiohttp in /usr/local/lib/python3.10/dist-packages (from openai) (3.8.5)\n",
            "Requirement already satisfied: langchain>=0.0.205 in /usr/local/lib/python3.10/dist-packages (from kor) (0.0.296)\n",
            "Requirement already satisfied: pandas<2.0.0,>=1.5.3 in /usr/local/lib/python3.10/dist-packages (from kor) (1.5.3)\n",
            "Requirement already satisfied: pydantic<3 in /usr/local/lib/python3.10/dist-packages (from kor) (1.10.12)\n",
            "Requirement already satisfied: beautifulsoup4<5,>=4.9 in /usr/local/lib/python3.10/dist-packages (from markdownify) (4.11.2)\n",
            "Requirement already satisfied: six<2,>=1.15 in /usr/local/lib/python3.10/dist-packages (from markdownify) (1.16.0)\n",
            "Requirement already satisfied: pdfminer.six==20221105 in /usr/local/lib/python3.10/dist-packages (from pdfplumber) (20221105)\n",
            "Requirement already satisfied: Pillow>=9.1 in /usr/local/lib/python3.10/dist-packages (from pdfplumber) (9.4.0)\n",
            "Requirement already satisfied: pypdfium2>=4.18.0 in /usr/local/lib/python3.10/dist-packages (from pdfplumber) (4.20.0)\n",
            "Requirement already satisfied: charset-normalizer>=2.0.0 in /usr/local/lib/python3.10/dist-packages (from pdfminer.six==20221105->pdfplumber) (3.2.0)\n",
            "Requirement already satisfied: cryptography>=36.0.0 in /usr/local/lib/python3.10/dist-packages (from pdfminer.six==20221105->pdfplumber) (41.0.3)\n",
            "Requirement already satisfied: soupsieve>1.2 in /usr/local/lib/python3.10/dist-packages (from beautifulsoup4<5,>=4.9->markdownify) (2.5)\n",
            "Requirement already satisfied: PyYAML>=5.3 in /usr/local/lib/python3.10/dist-packages (from langchain>=0.0.205->kor) (6.0.1)\n",
            "Requirement already satisfied: SQLAlchemy<3,>=1.4 in /usr/local/lib/python3.10/dist-packages (from langchain>=0.0.205->kor) (2.0.20)\n",
            "Requirement already satisfied: async-timeout<5.0.0,>=4.0.0 in /usr/local/lib/python3.10/dist-packages (from langchain>=0.0.205->kor) (4.0.3)\n",
            "Requirement already satisfied: dataclasses-json<0.7,>=0.5.7 in /usr/local/lib/python3.10/dist-packages (from langchain>=0.0.205->kor) (0.6.0)\n",
            "Requirement already satisfied: langsmith<0.1.0,>=0.0.38 in /usr/local/lib/python3.10/dist-packages (from langchain>=0.0.205->kor) (0.0.38)\n",
            "Requirement already satisfied: numexpr<3.0.0,>=2.8.4 in /usr/local/lib/python3.10/dist-packages (from langchain>=0.0.205->kor) (2.8.5)\n",
            "Requirement already satisfied: numpy<2,>=1 in /usr/local/lib/python3.10/dist-packages (from langchain>=0.0.205->kor) (1.23.5)\n",
            "Requirement already satisfied: tenacity<9.0.0,>=8.1.0 in /usr/local/lib/python3.10/dist-packages (from langchain>=0.0.205->kor) (8.2.3)\n",
            "Requirement already satisfied: attrs>=17.3.0 in /usr/local/lib/python3.10/dist-packages (from aiohttp->openai) (23.1.0)\n",
            "Requirement already satisfied: multidict<7.0,>=4.5 in /usr/local/lib/python3.10/dist-packages (from aiohttp->openai) (6.0.4)\n",
            "Requirement already satisfied: yarl<2.0,>=1.0 in /usr/local/lib/python3.10/dist-packages (from aiohttp->openai) (1.9.2)\n",
            "Requirement already satisfied: frozenlist>=1.1.1 in /usr/local/lib/python3.10/dist-packages (from aiohttp->openai) (1.4.0)\n",
            "Requirement already satisfied: aiosignal>=1.1.2 in /usr/local/lib/python3.10/dist-packages (from aiohttp->openai) (1.3.1)\n",
            "Requirement already satisfied: python-dateutil>=2.8.1 in /usr/local/lib/python3.10/dist-packages (from pandas<2.0.0,>=1.5.3->kor) (2.8.2)\n",
            "Requirement already satisfied: pytz>=2020.1 in /usr/local/lib/python3.10/dist-packages (from pandas<2.0.0,>=1.5.3->kor) (2023.3.post1)\n",
            "Requirement already satisfied: typing-extensions>=4.2.0 in /usr/local/lib/python3.10/dist-packages (from pydantic<3->kor) (4.5.0)\n",
            "Requirement already satisfied: idna<4,>=2.5 in /usr/local/lib/python3.10/dist-packages (from requests>=2.20->openai) (3.4)\n",
            "Requirement already satisfied: urllib3<3,>=1.21.1 in /usr/local/lib/python3.10/dist-packages (from requests>=2.20->openai) (2.0.4)\n",
            "Requirement already satisfied: certifi>=2017.4.17 in /usr/local/lib/python3.10/dist-packages (from requests>=2.20->openai) (2023.7.22)\n",
            "Requirement already satisfied: cffi>=1.12 in /usr/local/lib/python3.10/dist-packages (from cryptography>=36.0.0->pdfminer.six==20221105->pdfplumber) (1.15.1)\n",
            "Requirement already satisfied: marshmallow<4.0.0,>=3.18.0 in /usr/local/lib/python3.10/dist-packages (from dataclasses-json<0.7,>=0.5.7->langchain>=0.0.205->kor) (3.20.1)\n",
            "Requirement already satisfied: typing-inspect<1,>=0.4.0 in /usr/local/lib/python3.10/dist-packages (from dataclasses-json<0.7,>=0.5.7->langchain>=0.0.205->kor) (0.9.0)\n",
            "Requirement already satisfied: greenlet!=0.4.17 in /usr/local/lib/python3.10/dist-packages (from SQLAlchemy<3,>=1.4->langchain>=0.0.205->kor) (2.0.2)\n",
            "Requirement already satisfied: pycparser in /usr/local/lib/python3.10/dist-packages (from cffi>=1.12->cryptography>=36.0.0->pdfminer.six==20221105->pdfplumber) (2.21)\n",
            "Requirement already satisfied: packaging>=17.0 in /usr/local/lib/python3.10/dist-packages (from marshmallow<4.0.0,>=3.18.0->dataclasses-json<0.7,>=0.5.7->langchain>=0.0.205->kor) (23.1)\n",
            "Requirement already satisfied: mypy-extensions>=0.3.0 in /usr/local/lib/python3.10/dist-packages (from typing-inspect<1,>=0.4.0->dataclasses-json<0.7,>=0.5.7->langchain>=0.0.205->kor) (1.0.0)\n"
          ]
        }
      ]
    },
    {
      "cell_type": "code",
      "execution_count": 34,
      "metadata": {
        "id": "SgGAV8PFyBkW"
      },
      "outputs": [],
      "source": [
        "from kor.extraction import create_extraction_chain\n",
        "from kor.nodes import Object, Text, Number\n",
        "\n",
        "# LangChain Models\n",
        "from langchain.chat_models import ChatOpenAI\n",
        "from langchain.llms import OpenAI\n",
        "\n",
        "# Standard Helpers\n",
        "import pandas as pd\n",
        "import requests\n",
        "import time\n",
        "import json\n",
        "from datetime import datetime\n",
        "\n",
        "# Text Helpers\n",
        "from bs4 import BeautifulSoup\n",
        "from markdownify import markdownify as md\n",
        "\n",
        "# For token counting\n",
        "from langchain.callbacks import get_openai_callback\n",
        "\n",
        "def printOutput(output):\n",
        "    print(json.dumps(output,sort_keys=True, indent=3))"
      ]
    },
    {
      "cell_type": "code",
      "source": [
        "import os\n",
        "from dotenv import load_dotenv\n",
        "\n",
        "load_dotenv('/content/drive/MyDrive/Colab_Files/myenv.env')\n",
        "\n",
        "openai_api_key = os.getenv('OPENAI_API_KEY')\n"
      ],
      "metadata": {
        "id": "adcS_2YeyMVK"
      },
      "execution_count": 35,
      "outputs": []
    },
    {
      "cell_type": "code",
      "source": [
        "import pdfplumber\n",
        "def get_pdf_chunks(pdf_file_path):\n",
        "\n",
        "    try:\n",
        "        with pdfplumber.open(pdf_file_path) as pdf:\n",
        "            # for page in pdf.pages:\n",
        "            page_text = pdf.pages[0].extract_text()\n",
        "            # print(page_text)\n",
        "\n",
        "    except Exception as e:\n",
        "        print('an exception occured', str(e))\n",
        "        pass\n",
        "\n",
        "    return page_text"
      ],
      "metadata": {
        "id": "Stie4Qx_6A52"
      },
      "execution_count": 36,
      "outputs": []
    },
    {
      "cell_type": "code",
      "source": [
        "llm = ChatOpenAI(\n",
        "#     model_name=\"gpt-3.5-turbo\", # Cheaper but less reliable\n",
        "    model_name=\"gpt-4\",\n",
        "    temperature=0,\n",
        "    max_tokens=2000,\n",
        "    openai_api_key=openai_api_key\n",
        ")"
      ],
      "metadata": {
        "id": "UVaxTYpc2Xdo"
      },
      "execution_count": 37,
      "outputs": []
    },
    {
      "cell_type": "code",
      "source": [
        "bill_schema = Object(\n",
        "    # This what will appear in your output. It's what the fields below will be nested under.\n",
        "    # It should be the parent of the fields below. Usually it's singular (not plural)\n",
        "    id=\"utility_bill\",\n",
        "\n",
        "    # Natural language description about your object\n",
        "    description=\"A utility bill\",\n",
        "\n",
        "    # Fields you'd like to capture from a piece of text about your object.\n",
        "    attributes=[\n",
        "        Text(\n",
        "            id=\"account_number\",\n",
        "            description=\"The Account Number\",\n",
        "        ),\n",
        "        Text(\n",
        "            id=\"due_date\",\n",
        "            description=\"Due Date\",\n",
        "        ),\n",
        "        Text(\n",
        "            id=\"statement_date\",\n",
        "            description=\"Statement Date\",\n",
        "        ),\n",
        "        Text(\n",
        "            id=\"amount_due\",\n",
        "            description=\"The Amount Due\",\n",
        "        ),\n",
        "        Text(\n",
        "            id=\"service_address\",\n",
        "            description=\"The service address\",\n",
        "        )\n",
        "    ],\n",
        "\n",
        "    # Examples help go a long way with telling the LLM what you need\n",
        "    examples=[(\n",
        "        \"\"\"Account No: 1234567890-1\n",
        "        ENERGY STATEMENT\n",
        "        Statement Date: 09/07/2019\n",
        "        www.pge.com/MyEnergy\n",
        "        Due Date: 09/28/2019\n",
        "        Service For: Your Account Summary\n",
        "        . AmountDueonPreviousStatement $91.57\n",
        "        SPARKY JOULE\n",
        "        12345 ENERGY, CT Payment(s)ReceivedSinceLastStatement -91.57\n",
        "        ... PreviousUnpaidBalance $0.00\n",
        "        CurrentPG&EElectricDeliveryCharges $55.66\n",
        "        Questions about your bill? SiliconValleyCleanEnergyElectricGenerationCharges $3.2.48\n",
        "        .\n",
        "        Monday-Friday7a.m.-9p.m.\n",
        "        Saturday8a.m.-6p.m.\n",
        "        Total Amount Due by 08/28/2019 $88.14\n",
        "        \"\"\", [{\"account_number\": \"1234567890-1\"}, {\"due_date\": \"09/28/2019\"},\n",
        "         {\"statement_date\": \"09/07/2019\"}, {\"amount_due\": \"88.14\"}])\n",
        "    ]\n",
        ")"
      ],
      "metadata": {
        "id": "hQQlmTwE2lxv"
      },
      "execution_count": 38,
      "outputs": []
    },
    {
      "cell_type": "code",
      "source": [
        "chain = create_extraction_chain(llm, bill_schema)"
      ],
      "metadata": {
        "id": "D7t62PIw5qvZ"
      },
      "execution_count": 39,
      "outputs": []
    },
    {
      "cell_type": "code",
      "source": [
        "pdfsample = '/content/drive/MyDrive/Colab_Files/sample_utility_bills/psegbill1.pdf'\n",
        "\n",
        "text = get_pdf_chunks(pdfsample)\n",
        "output = chain.run(text=(text))[\"data\"]\n",
        "\n",
        "printOutput(output)"
      ],
      "metadata": {
        "colab": {
          "base_uri": "https://localhost:8080/"
        },
        "id": "v2K7HuK45u6I",
        "outputId": "00645c06-3dfd-4928-da51-4f5faa25439c"
      },
      "execution_count": 40,
      "outputs": [
        {
          "output_type": "stream",
          "name": "stdout",
          "text": [
            "{\n",
            "   \"utility_bill\": [\n",
            "      {\n",
            "         \"account_number\": \"6598655404\",\n",
            "         \"amount_due\": \"99.70\",\n",
            "         \"due_date\": \"Sep27,2023\",\n",
            "         \"service_address\": \"2712FORESTHAVENBLVD EDISONTWPNJ08817-6336\",\n",
            "         \"statement_date\": \"September12,2023\"\n",
            "      }\n",
            "   ]\n",
            "}\n"
          ]
        }
      ]
    },
    {
      "cell_type": "code",
      "source": [],
      "metadata": {
        "id": "qt7T2XBh6XE4"
      },
      "execution_count": 40,
      "outputs": []
    }
  ]
}